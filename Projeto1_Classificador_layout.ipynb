{
 "cells": [
  {
   "cell_type": "markdown",
   "metadata": {},
   "source": [
    "# Projeto 1 - Ciência dos Dados"
   ]
  },
  {
   "cell_type": "markdown",
   "metadata": {},
   "source": [
    "Nome: Luca Coutinho Melão\n",
    "\n",
    "Nome: Thiago de Donato Youssef"
   ]
  },
  {
   "cell_type": "markdown",
   "metadata": {},
   "source": [
    "**Atenção:** Serão permitidos grupos de três pessoas, mas com uma rubrica mais exigente. Grupos deste tamanho precisarão fazer um questionário de avaliação de trabalho em equipe"
   ]
  },
  {
   "cell_type": "markdown",
   "metadata": {},
   "source": [
    "___\n",
    "Carregando algumas bibliotecas:"
   ]
  },
  {
   "cell_type": "code",
   "execution_count": 63,
   "metadata": {},
   "outputs": [
    {
     "name": "stdout",
     "output_type": "stream",
     "text": [
      "Requirement already satisfied: emoji in c:\\users\\lucam\\anaconda3\\lib\\site-packages (0.6.0)\n"
     ]
    }
   ],
   "source": [
    "!pip install emoji"
   ]
  },
  {
   "cell_type": "code",
   "execution_count": 64,
   "metadata": {},
   "outputs": [],
   "source": [
    "%matplotlib inline\n",
    "import pandas as pd\n",
    "import matplotlib.pyplot as plt\n",
    "import numpy as np\n",
    "import os\n",
    "import re\n",
    "from emoji import UNICODE_EMOJI"
   ]
  },
  {
   "cell_type": "markdown",
   "metadata": {},
   "source": [
    "**Em `filename`, coloque o nome do seu arquivo de dados!**"
   ]
  },
  {
   "cell_type": "code",
   "execution_count": 65,
   "metadata": {
    "scrolled": false
   },
   "outputs": [
    {
     "name": "stdout",
     "output_type": "stream",
     "text": [
      "Encontrei o arquivo PS5.xlsx, tudo certo para prosseguir com a prova!\n"
     ]
    }
   ],
   "source": [
    "import os\n",
    "\n",
    "filename = 'PS5.xlsx'\n",
    "if filename in os.listdir():\n",
    "    print(f'Encontrei o arquivo {filename}, tudo certo para prosseguir com a prova!')\n",
    "else:\n",
    "    print(f'Não encontrei o arquivo {filename} aqui no diretório {os.getcwd()}, será que você não baixou o arquivo?')"
   ]
  },
  {
   "cell_type": "markdown",
   "metadata": {},
   "source": [
    "Carregando a base de dados com os tweets classificados como relevantes e não relevantes:"
   ]
  },
  {
   "cell_type": "code",
   "execution_count": 72,
   "metadata": {},
   "outputs": [],
   "source": [
    "# Base de dados para treinamento\n",
    "train = pd.read_excel(filename)\n",
    "\n",
    "# Base de dados para teste\n",
    "test = pd.read_excel(filename, sheet_name = 'Teste')"
   ]
  },
  {
   "cell_type": "markdown",
   "metadata": {},
   "source": [
    "___\n",
    "## Classificador automático de sentimento\n"
   ]
  },
  {
   "cell_type": "markdown",
   "metadata": {},
   "source": [
    "### Descrição do produto e proposta\n",
    "O Playstation 5 (PS5) é o novo console de jogos da Sony, com seu lançamento mundial oficial em 12 de novembro de 2020. O console é  pioneiro na nova geração de games junto de seu concorrente da Microsoft, o Xbox Series X. Anunciado oficialmente em 11 de junho de 2020, o PS5 já obteve impressionantes números de pré-venda desde a divulgação de seu preço e jogos exclusivos em 16/09/2020, e promete apresentar grandes diferenciais e avanços em relação ao seu antecessor, o PS4.\n",
    "\n",
    "Nossa proposta é a elaboração de um classificador Naive Bayes que categorize tweets de usuários sobre o PS5 como relevantes ou irrelevantes, levando em conta o conteúdo dos mesmos de acordo com os critério mencionados abaixo:\n",
    "\n",
    "#### Critérios adotados para relevância:\n",
    "\n",
    "Tweets que expressam o sentimento do usuário com relação ao console, remetem geralmente às expectativas sobre os preços, jogos mais aguardados, comparações com a concorrência.\n",
    "\n",
    "#### Critérios adotados para irrelevância:\n",
    "\n",
    "Tweets que não estão relacionados ao produto, ou que não agregam nada à análise de sentimentos sobre ele. Tais como: anúncios de lives, divulgação de contúedos não relacionados ao produto e comentários sem significado algum."
   ]
  },
  {
   "cell_type": "markdown",
   "metadata": {},
   "source": [
    "___\n",
    "### Montando um Classificador Naive-Bayes\n",
    "\n",
    "Considerando apenas as mensagens da planilha Treinamento, ensine  seu classificador."
   ]
  },
  {
   "cell_type": "code",
   "execution_count": 68,
   "metadata": {},
   "outputs": [],
   "source": [
    "# Separa emojis dos outros caracteres\n",
    "def separa_emoji(text):\n",
    "    return ''.join(' ' + char if char in UNICODE_EMOJI else char for char in text).strip()\n",
    "\n",
    "# Fonte : https://medium.com/analytics-vidhya/simplify-your-dataset-cleaning-with-pandas-75951b23568e\n",
    "\n",
    "def clean_df(dados,base):\n",
    "    \"\"\"\n",
    "        Função que limpa caracteres especiais e troca por espaços.\n",
    "    \"\"\"\n",
    "    spec_chars = [\"!\",\"˜\",\"rt\",\"\\n\",'\"',\"#\",\"%\",\"&\",\"'\",\"(\",\")\",\n",
    "                  \"*\",\"+\",\",\",\"-\",\".\",\"/\",\":\",\";\",\"<\",\n",
    "                  \"=\",\">\",\"?\",\"[\",\"\\\\\",\"]\",\"^\",\"_\",\n",
    "                  \"`\",\"{\",\"|\",\"}\",\"~\",\"–\",\"https\",\"@\"]\n",
    "    for char in spec_chars:\n",
    "        dados[base] = dados[base].str.replace(char, ' ')\n",
    "\n",
    "def cleanup(text):\n",
    "    \"\"\"\n",
    "        Função de limpeza muito simples que troca alguns sinais básicos por espaços.\n",
    "    \"\"\"\n",
    "    #import string\n",
    "    punctuation = '[!-.:?;]'\n",
    "    pattern = re.compile(punctuation)\n",
    "    text_subbed = re.sub(pattern, '', text)\n",
    "    return text_subbed\n",
    "\n",
    "# Dicionários que guardam quantas vezes uma palavra apareceu na base de dados de acordo com a sua relevância\n",
    "dc_0 = dict()\n",
    "dc_1 = dict()\n",
    "\n",
    "a = 1\n",
    "b = 1\n",
    "    \n",
    "# Treinamento para classificação de tweets irrelevantes\n",
    "for tweet in train.loc[train.Relevância==0, 'Treinamento']:\n",
    "    tweet = cleanup(tweet)\n",
    "    words = tweet.split()\n",
    "    for word in words:\n",
    "        if word not in dc_0.keys():\n",
    "            dc_0[word] = 1\n",
    "        else:\n",
    "            dc_0[word] += 1\n",
    "            \n",
    "# Treinamento para classificação de tweets relevantes\n",
    "for tweet in train.loc[train.Relevância==1, 'Treinamento']:\n",
    "    tweet = cleanup(tweet)\n",
    "    words = tweet.split()\n",
    "    for word in words:\n",
    "        if word not in dc_1.keys():\n",
    "            dc_1[word] = 1\n",
    "        else:\n",
    "            dc_1[word] += 1\n",
    "    \n",
    "for i in dc_0.values():\n",
    "    a += i\n",
    "for i in dc_1.values():\n",
    "    b += i\n",
    "        \n",
    "den = len(dc_1)\n",
    "repetido = False\n",
    "    \n",
    "for i in dc_0.keys():\n",
    "    for x in dc_1.keys():\n",
    "        if i == x:\n",
    "            repetido = True\n",
    "    if repetido == False:\n",
    "        den += 1\n",
    "            \n",
    "den_0 = a+den\n",
    "den_1 = b+den\n",
    "            \n",
    "dic = [dc_0,dc_1,den_0,den_1]\n",
    "\n",
    "# Função que calcula a probabilidade de um tweet não ser relevante\n",
    "def calcula_prob_0(tweet,dic):\n",
    "    tweet = cleanup(tweet)\n",
    "    dc_0 = dic[0]\n",
    "    den = dic[2]\n",
    "    prob = 1\n",
    "    words = tweet.split()\n",
    "    for word in words:\n",
    "        if word in dc_0.keys():\n",
    "            prob *= ((dc_0[word]+1)/den)\n",
    "        else:\n",
    "            prob *= ((1)/den)\n",
    "    return prob\n",
    "\n",
    "# Função que calcula a probabilidade de um tweet ser relevante\n",
    "def calcula_prob_1(tweet,dic):\n",
    "    tweet = cleanup(tweet)\n",
    "    dc_1 = dic[1]\n",
    "    den = dic[3]\n",
    "    prob = 1\n",
    "    words = tweet.split()\n",
    "    for word in words:\n",
    "        if word in dc_1.keys():\n",
    "            prob *= ((dc_1[word]+1)/den)\n",
    "        else:\n",
    "            prob *= ((1)/den)\n",
    "    return prob\n",
    "\n",
    "# Função que classifica os tweets\n",
    "def classificador(dados,base,dic):\n",
    "    clean_df(dados,base)\n",
    "    for tweet in dados[base]:\n",
    "        P_T_dado_R = calcula_prob_1(tweet,dic)\n",
    "        P_T_dado_Rc = calcula_prob_0(tweet,dic)\n",
    "        if (P_T_dado_R > P_T_dado_Rc):\n",
    "            dados.loc[(dados[base]==tweet),'Relevância_Teste'] = 1\n",
    "        else:\n",
    "            dados.loc[(dados[base]==tweet),'Relevância_Teste'] = 0\n",
    "        separa_emoji(tweet)\n",
    "        \n"
   ]
  },
  {
   "cell_type": "markdown",
   "metadata": {},
   "source": [
    "___\n",
    "### Verificando a performance do Classificador\n",
    "\n",
    "Agora você deve testar o seu classificador com a base de Testes."
   ]
  },
  {
   "cell_type": "code",
   "execution_count": 71,
   "metadata": {},
   "outputs": [
    {
     "name": "stdout",
     "output_type": "stream",
     "text": [
      "Tabela cruzada: classifiação manual X classificação por Naive Bayes\n",
      "Relevância_Teste  0.0  1.0\n",
      "Relevância                \n",
      "0                  99   69\n",
      "1                  38  147\n",
      "-----------------------------------------------\n",
      "Porcentagem de verdadeiros positivos: 68.06%\n",
      "Porcentagem de falsos positivos: 31.94%\n",
      "Porcentagem de verdadeiros negativos: 72.26%\n",
      "Porcentagem de falsos negativos: 27.74%\n",
      "-----------------------------------------------\n",
      "Porcentagem de acerto geral: 69.69%\n"
     ]
    }
   ],
   "source": [
    "# Classificando base de testes\n",
    "classificador(test,'Teste',dic)\n",
    "\n",
    "# Tabela que demonstra o teste do classificador com a base de Testes\n",
    "tab = pd.crosstab(test.Relevância, test.Relevância_Teste)\n",
    "print('Tabela cruzada: classifiação manual X classificação por Naive Bayes')\n",
    "print(tab)\n",
    "\n",
    "# Porcentagens de erros/acertos do classificador Naive Bayes\n",
    "\n",
    "VP = tab[1][1]\n",
    "FP = tab[1][0]\n",
    "VN = tab[0][0]\n",
    "FN = tab[0][1]\n",
    "total_positivo = VP + FP \n",
    "total_negativo = VN + FN\n",
    "total = VP + FP + VN + FN\n",
    "\n",
    "print('-----------------------------------------------')\n",
    "print(f'Porcentagem de verdadeiros positivos: {(VP/total_positivo)*100:.2f}%')\n",
    "print(f'Porcentagem de falsos positivos: {(FP/total_positivo)*100:.2f}%')\n",
    "print(f'Porcentagem de verdadeiros negativos: {(VN/total_negativo)*100:.2f}%')\n",
    "print(f'Porcentagem de falsos negativos: {(FN/total_negativo)*100:.2f}%')\n",
    "print('-----------------------------------------------')\n",
    "print(f'Porcentagem de acerto geral: {((VP + VN)/total)*100:.2f}%')\n"
   ]
  },
  {
   "cell_type": "markdown",
   "metadata": {},
   "source": [
    "___\n",
    "### Conclusão"
   ]
  },
  {
   "cell_type": "markdown",
   "metadata": {},
   "source": [
    "#### Comparativo qualitativo sobre os percentuais obtidos\n",
    "\n",
    "Tendo em vista as porcentagens de erros/acertos de nosso classificador, pode-se dizer que sua performance mostrou-se parcialmente satifatória. No caso de tweets relevantes, ele demonstrou uma taxa de acerto na classificação de 68.06%, enquanto no caso de tweets irrelevantes, ele apresentou uma taxa de acerto superior, de 72.26%.\n",
    "\n",
    "Em nossa visão, um desempenho satisfatório deveria ser de 80% de acerto para cima. Por isso, considerando o treinamento com uma única base de dados, consideramamos o resultado final obtido tolerável.\n",
    "\n",
    "A partir das porcentagens, pode-se concluir que o classificador possui um melhor desempenho na classificação de tweets como irrelevantes.\n"
   ]
  },
  {
   "cell_type": "markdown",
   "metadata": {},
   "source": [
    "#### Como são tratadas as mensagens com dupla negação e sarcasmo?\n",
    "\n",
    "O tratamento de mensagens com dupla negação e sarcasmo não se faz necessário no caso de nosso classificador, uma vez que de acordo com os critérios de classificação estabelecidos, mensagens que trazem opiniões/sentimentos tanto positivos quanto negativos acerca do produto em questão são consideradas relevantes, sendo categorizadas igualmente. "
   ]
  },
  {
   "cell_type": "markdown",
   "metadata": {},
   "source": [
    "#### Plano de expansão. Por que nosso projeto deve continuar sendo financiado?\n",
    "Nosso projeto, em sua primeira versão, obteve uma taxa de acerto geral de 69.69%. Para isso, foi levado em conta apenas uma única base de dados para treinamento, e uma outra única base para teste. Sabemos que, com o tempo, é possível aperfeiçoar nosso classificador Naive Bayes através dos seguintes práticas:\n",
    "- Uso de novas bases de dados diversificadas para treinamento. \n",
    "- Filtragem de palavras que não adicionam significado ou conteúdo ao texto, tais como conectivos, artigos de ligação, etc.\n",
    "- Categorização de palavras em expressões pelo seu emprego usual nas frases. \n",
    "- Agrupamento de palavras de acordo com seu campo semântico.\n",
    "\n",
    "Portanto, adotando tais técnicas, conseguiremos melhorar o desempenho de nosso classificador, e por isso nosso projeto deve continuar sendo financiado."
   ]
  },
  {
   "cell_type": "markdown",
   "metadata": {},
   "source": [
    "### Por que não posso usar o próprio classificador para gerar mais amostras de treinamento?\n",
    "Ao utilizar o próprio classificador para gerar mais amostras de treinamento, os eventuais erros cometidos por ele serão armazenados e propagados adiante. Dessa forma, novas amostras de treinamento geradas por ele mesmo carregariam erros consigo e diminuiriam a eficácia do classificador."
   ]
  },
  {
   "cell_type": "markdown",
   "metadata": {},
   "source": [
    "## Diferentes cenários para Naive Bayes fora do contexto do projeto\n",
    "\n",
    "### Primeiro cenário: Caixa de spam do email\n",
    "A partir de uma análise de palavras-chave e assuntos recorrentes, o classificador Naive Bayes é capaz de categorizar emails que contém promoções, ofertas, anúncios, etc, como \"spam\".\n",
    "\n",
    "### Segundo cenário: Correntes de fake news em redes sociais\n",
    "As correntes de redes sociais que contém fake news usualmente seguem uma tendência, elas apresentam textos em caps-lock, não apresentam fontes/links confiáveis, apelam para o discurso emotivo, e pedem para que sejam imediatamente compartilhadas. A partir da identificação de tais elementos no texto, o classificador Naive Bayes é capaz de sinalizar quando a mensagem contém fake news, ou pelo menos apontar quando há alta probabilidade disso.\n",
    "\n",
    "### Terceiro cenário: Algoritmos de recomendação\n",
    "Em aplicativos como Netflix ou Spotify é comum ver uma seção de \"recomendados para você\" ou \"acho que você vai gostar\". Tendo o conteúdo consumido pelo usuário em um período recente como base de treinamento, o classificador Naive Bayes pode ser utilizado para recomendar novos títulos que possivelmente irão agradar o usuário. Para isso, ele levará em conta o gênero do filme/música, ano de lançamento, palavras das \"lyrics\", etc.\n",
    "\n",
    "### Quarto cenário: Classificação de documentos\n",
    "No meio corporativo e jurídico é muito comum a necessidade de lidar com diversos documentos, tais como procurações, petições, contratos sociais, acordos de confidencialidade, etc. Sendo assim, a partir de palavras-chave presentes em cada tipo, o classificador Naive Bayes é capaz de categorizar os documentos em seus respectivos grupos.\n",
    "\n",
    "### Quinto cenário: Categorização de artigos \n",
    "Ao acessar uma newsletter ou ler as notícias, é muito comum que os artigos estejam divididos de acordo com suas categorias como esportes, tecnologia, economia, entre outros. O classificador Naive Bayes pode fazer essa divisão também levando em conta palavras-chave presentes em cada categoria."
   ]
  },
  {
   "cell_type": "markdown",
   "metadata": {},
   "source": [
    "___\n",
    "## Aperfeiçoamento:\n",
    "\n",
    "Os trabalhos vão evoluir em conceito dependendo da quantidade de itens avançados:\n",
    "\n",
    "* Limpar: \\n, :, \", ', (, ), etc SEM remover emojis\n",
    "* Corrigir separação de espaços entre palavras e emojis ou entre emojis e emojis\n",
    "* Propor outras limpezas e transformações que não afetem a qualidade da informação ou classificação\n",
    "* Criar categorias intermediárias de relevância baseadas na probabilidade: ex.: muito relevante, relevante, neutro, irrelevante, muito irrelevante (3 categorias: C, mais categorias conta para B)\n",
    "* Explicar por que não posso usar o próprio classificador para gerar mais amostras de treinamento\n",
    "* Propor diferentes cenários para Naïve Bayes fora do contexto do projeto\n",
    "* Sugerir e explicar melhorias reais com indicações concretas de como implementar (indicar como fazer e indicar material de pesquisa)\n",
    "* Montar um dashboard que realiza análise de sentimento e visualiza estes dados"
   ]
  },
  {
   "cell_type": "markdown",
   "metadata": {},
   "source": [
    "___\n",
    "## Referências"
   ]
  },
  {
   "cell_type": "markdown",
   "metadata": {},
   "source": [
    "[Naive Bayes and Text Classification](https://arxiv.org/pdf/1410.5329.pdf)  **Mais completo**\n",
    "\n",
    "[A practical explanation of a Naive Bayes Classifier](https://monkeylearn.com/blog/practical-explanation-naive-bayes-classifier/) **Mais simples**"
   ]
  }
 ],
 "metadata": {
  "kernelspec": {
   "display_name": "Python 3",
   "language": "python",
   "name": "python3"
  },
  "language_info": {
   "codemirror_mode": {
    "name": "ipython",
    "version": 3
   },
   "file_extension": ".py",
   "mimetype": "text/x-python",
   "name": "python",
   "nbconvert_exporter": "python",
   "pygments_lexer": "ipython3",
   "version": "3.7.6"
  }
 },
 "nbformat": 4,
 "nbformat_minor": 4
}
